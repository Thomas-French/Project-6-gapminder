{
 "cells": [
  {
   "cell_type": "code",
   "execution_count": 165,
   "id": "24733855-5b30-4e8e-a4f8-976d116ab387",
   "metadata": {},
   "outputs": [
    {
     "name": "stdout",
     "output_type": "stream",
     "text": [
      "np version: 1.17.4\n",
      "pd version: 0.25.3\n",
      "plt version: 3.1.2\n"
     ]
    }
   ],
   "source": [
    "import pandas as pd\n",
    "from scipy import stats\n",
    "import numpy as np\n",
    "import matplotlib as mpl\n",
    "import matplotlib.pyplot as plt\n",
    "print(\"np version: \" +np.__version__)\n",
    "print(\"pd version: \" +pd.__version__)\n",
    "print(\"plt version: \" +mpl.__version__)"
   ]
  },
  {
   "cell_type": "code",
   "execution_count": 166,
   "id": "21ab6cee-9b51-49e5-9227-e0424c8cdea2",
   "metadata": {},
   "outputs": [],
   "source": [
    "df=pd.read_csv(\"sdi.csv\")\n",
    "df1=pd.read_csv(\"gdp_total_yearly_growth.csv\")\n",
    "df2=pd.read_csv(\"gdp_total_yearly_growth.csv\")\n"
   ]
  },
  {
   "cell_type": "code",
   "execution_count": 167,
   "id": "b8ebd4a7-2029-41df-b7a5-64205add9525",
   "metadata": {},
   "outputs": [],
   "source": [
    "#print(df1,df)"
   ]
  },
  {
   "cell_type": "code",
   "execution_count": null,
   "id": "06da6695-6f27-4251-b6a3-90e10dd088ca",
   "metadata": {},
   "outputs": [],
   "source": []
  },
  {
   "cell_type": "code",
   "execution_count": 168,
   "id": "c2f7048d-dbff-4242-b324-e6214b5b2e6e",
   "metadata": {},
   "outputs": [
    {
     "name": "stdout",
     "output_type": "stream",
     "text": [
      "                  country     1800     1801     1802     1803     1804  \\\n",
      "1             Afghanistan        0        0        0        0        0   \n",
      "2                  Angola    0.425    0.425    0.425    0.425    0.425   \n",
      "4                 Albania    0.418    0.418    0.418    0.418    0.418   \n",
      "7    United Arab Emirates   0.0236   0.0236   0.0236   0.0236   0.0236   \n",
      "8               Argentina        0        0        0        0        0   \n",
      "..                    ...      ...      ...      ...      ...      ...   \n",
      "216                 Samoa  −0.0169  −0.0169  −0.0169  −0.0169  −0.0169   \n",
      "217                 Yemen   0.0236   0.0236   0.0236   0.0236   0.0236   \n",
      "218          South Africa  −0.0381  −0.0381  −0.0381  −0.0381    −4.89   \n",
      "219                Zambia    0.227    0.227    0.227    0.227    0.227   \n",
      "220              Zimbabwe    0.106    0.106    0.106    0.106    0.106   \n",
      "\n",
      "        1805     1806     1807     1808  ...   2003   2004   2005   2006  \\\n",
      "1          0        0        0        0  ...   6.55   12.4   4.56   13.6   \n",
      "2      0.425    0.425    0.425    0.425  ...   11.2   20.5   18.6   23.2   \n",
      "4      0.418    0.418    0.418    0.418  ...   5.97   5.53   5.77   5.85   \n",
      "7     0.0236   0.0236   0.0236   0.0236  ...   12.9   15.8   21.1   16.4   \n",
      "8          0        0        0        0  ...   8.88   9.08   8.21   8.39   \n",
      "..       ...      ...      ...      ...  ...    ...    ...    ...    ...   \n",
      "216  −0.0169  −0.0169  −0.0169  −0.0169  ...      3    4.7   2.07   1.68   \n",
      "217   0.0236   0.0236   0.0236   0.0236  ...   3.63   4.26   3.18   3.35   \n",
      "218    0.401      8.8    −12.1    −1.93  ...   4.86   5.52   5.81   5.68   \n",
      "219    0.227    0.227    0.227    0.227  ...   6.18   5.22    6.2   6.31   \n",
      "220    0.106    0.106    0.106    0.106  ...  −6.07  −6.04  −3.88  −4.14   \n",
      "\n",
      "      2007   2008   2009   2010  2011    2012  \n",
      "1      2.5   20.2   8.04   6.98  14.8    4.47  \n",
      "2     13.8   2.39   3.45   3.87  4.96    3.79  \n",
      "4     7.24   3.28   3.36   2.86  2.64    2.06  \n",
      "7     13.9  0.107   6.47   7.28  4.08    2.99  \n",
      "8      6.5  0.598   8.88   8.59  1.64    3.98  \n",
      "..     ...    ...    ...    ...   ...     ...  \n",
      "216   4.15  −5.16  0.396   2.12  3.09  −0.176  \n",
      "217   3.66   3.88   7.81  −10.4   2.5    4.48  \n",
      "218   3.75  −1.22   3.56   2.89  1.66    1.01  \n",
      "219   6.01    6.1   7.11    6.6  7.04    5.85  \n",
      "220  −18.1   5.31   8.89   9.79    10    4.29  \n",
      "\n",
      "[164 rows x 214 columns]\n",
      "                  country  1989  1990  1991  1992  1993  1994  1995  1996  \\\n",
      "0             Afghanistan  32.5  33.1  34.0  33.5  33.0  35.6  36.0  36.6   \n",
      "1                  Angola   NaN   NaN   NaN   NaN   NaN   NaN   NaN   NaN   \n",
      "2                 Albania  69.9  68.0  66.2  66.5  67.2  68.6  69.5  69.5   \n",
      "3    United Arab Emirates  46.9  29.2  19.4  12.8  10.6  11.1   9.9  10.2   \n",
      "4               Argentina  77.1  77.1  77.1  77.5  77.4  77.8  78.0  78.3   \n",
      "..                    ...   ...   ...   ...   ...   ...   ...   ...   ...   \n",
      "159                 Samoa  68.2  63.1  68.3  68.8  66.5  67.2  68.2  68.4   \n",
      "160                 Yemen  43.1  43.2  43.4  43.7  43.9  44.6  45.4  45.9   \n",
      "161          South Africa  64.4  65.2  66.7  66.8  66.5  67.1  66.7  65.9   \n",
      "162                Zambia  45.3  44.9  44.8  45.1  44.6  44.7  44.7  44.8   \n",
      "163              Zimbabwe  51.5  51.8  50.3  49.9  49.5  48.8  48.8  48.2   \n",
      "\n",
      "     1997  ...  2009  2010  2011  2012  2013  2014  2015  2016  2017  2018  \n",
      "0    37.1  ...  50.8  51.4  52.7  53.4  53.8  53.8  54.1  54.5  54.9  55.1  \n",
      "1     NaN  ...  55.8  57.4  58.6  59.8  60.8  61.6  62.2  62.7  62.7  62.6  \n",
      "2    70.6  ...  79.6  81.1  82.2  82.6  82.6  82.3  82.1  82.1  82.3  82.6  \n",
      "3    10.7  ...  14.7  13.6  13.2  11.9  11.5  11.0  10.8  10.9  11.0  11.0  \n",
      "4    78.0  ...  81.6  80.6  80.3  78.7  78.2  77.6  77.2  77.2  77.2  77.7  \n",
      "..    ...  ...   ...   ...   ...   ...   ...   ...   ...   ...   ...   ...  \n",
      "159  69.0  ...  75.3  75.4  75.1  75.3  75.5  75.9  76.1  76.1  76.0  76.7  \n",
      "160  46.5  ...  54.5  54.5  54.3  54.9  54.1  52.1  51.1  50.3  50.4  50.6  \n",
      "161  65.4  ...  65.1  65.5  66.4  67.4  67.6  68.5  68.5  68.6  68.9  69.0  \n",
      "162  44.7  ...  56.8  57.5  59.2  60.0  60.3  61.3  61.6  62.2  62.6  62.9  \n",
      "163  47.6  ...  51.9  53.8  56.6  57.9  58.9  59.5  60.1  60.7  61.3  61.5  \n",
      "\n",
      "[164 rows x 31 columns]\n"
     ]
    }
   ],
   "source": [
    "#years=(df1.shape[0])\n",
    "\n",
    "for h in range(0,220):\n",
    "    cond = df2['country'].isin(df['country'])\n",
    "    df2.drop(df2[cond].index, inplace = True)\n",
    "for h in range(0,220):\n",
    "    cond = df1['country'].isin(df2['country'])\n",
    "    df1.drop(df1[cond].index, inplace = True)\n",
    "    #for b in range(0,220):\n",
    "    #    first=df1[df1.iloc[h,0]]\n",
    "    #    second=df[df.iloc[0:b,0]]\n",
    "    #    print(first,second)\n",
    "        #if (1==2):\n",
    "            \n",
    "         #   df1.drop(df1.index[h])\n",
    "print(df1)\n",
    "print(df)"
   ]
  },
  {
   "cell_type": "code",
   "execution_count": 169,
   "id": "2963f989-2695-4621-bf08-cf87c737ca31",
   "metadata": {},
   "outputs": [
    {
     "ename": "NameError",
     "evalue": "name 'corr' is not defined",
     "output_type": "error",
     "traceback": [
      "\u001b[0;31m---------------------------------------------------------------------------\u001b[0m",
      "\u001b[0;31mNameError\u001b[0m                                 Traceback (most recent call last)",
      "Input \u001b[0;32mIn [169]\u001b[0m, in \u001b[0;36m<module>\u001b[0;34m\u001b[0m\n\u001b[1;32m      3\u001b[0m ax\u001b[38;5;241m.\u001b[39mset_ylabel(\u001b[38;5;124m\"\u001b[39m\u001b[38;5;124msdi\u001b[39m\u001b[38;5;124m\"\u001b[39m)\n\u001b[1;32m      4\u001b[0m ax\u001b[38;5;241m.\u001b[39mset_xlabel(\u001b[38;5;124m\"\u001b[39m\u001b[38;5;124mgdp\u001b[39m\u001b[38;5;124m\"\u001b[39m)\n\u001b[0;32m----> 5\u001b[0m ax\u001b[38;5;241m.\u001b[39mplot(\u001b[43mcorr\u001b[49m)\n",
      "\u001b[0;31mNameError\u001b[0m: name 'corr' is not defined"
     ]
    },
    {
     "data": {
      "image/png": "[encoded data removed]",
      "text/plain": [
       "<Figure size 700x700 with 1 Axes>"
      ]
     },
     "metadata": {
      "needs_background": "light"
     },
     "output_type": "display_data"
    }
   ],
   "source": [
    "fig, ax = plt.subplots(1,1,figsize=(7,7), dpi=100)\n",
    "ax.scatter(x=df1['2004'],y=df['2004'],color='green',s=10,alpha=.4)\n",
    "ax.set_ylabel(\"sdi\")\n",
    "ax.set_xlabel(\"gdp\")\n",
    "ax.plot(corr)"
   ]
  },
  {
   "cell_type": "code",
   "execution_count": null,
   "id": "1033ce35-19f5-4808-8b7b-2cccb94dae95",
   "metadata": {},
   "outputs": [],
   "source": []
  }
 ],
 "metadata": {
  "kernelspec": {
   "display_name": "Python 3 (ipykernel)",
   "language": "python",
   "name": "python3"
  },
  "language_info": {
   "codemirror_mode": {
    "name": "ipython",
    "version": 3
   },
   "file_extension": ".py",
   "mimetype": "text/x-python",
   "name": "python",
   "nbconvert_exporter": "python",
   "pygments_lexer": "ipython3",
   "version": "3.8.10"
  }
 },
 "nbformat": 4,
 "nbformat_minor": 5
}
