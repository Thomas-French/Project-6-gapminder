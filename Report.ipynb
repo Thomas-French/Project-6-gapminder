{
 "cells": [
  {
   "cell_type": "markdown",
   "id": "337a97d9-0433-40de-9fff-6e8fe595318f",
   "metadata": {},
   "source": [
    "---\n",
    "title: Correlation between GDP and Sustainable Development Index (SDI)\n",
    "author: Thomas French\n",
    "geometry: margin=1.25in\n",
    "\n",
    "---\n",
    "\n",
    "What database you chose and perhaps why.\n",
    "What did you do to analyze it\n",
    "Display your graph and observation\n",
    "\n",
    "# Data Selection\n",
    "I chose the GDP and SDI data set. I though that the richer countries would have higher sustainablilty development since they can spend more money on enviromental protection projects. \n",
    "\n",
    "I also though it would be funny to see if there a few very rich countries that were very unenviromentally concious. \n",
    "And then I could blame them for all my problems :)\n",
    "\n",
    "# Data Processing\n",
    "To process the data I started by uploading then filtering the two data sets. since they were completely different data they had data for different number of countries on different years. \n",
    "For the GDP I also had to convert all the K into 1000. This was espicially difficult since there was some data that had decimal points then a K. I replaced the K's with a \"* 1000\" then I evaluated the value of each frame. \n",
    "\n",
    "I also processed the data by putting it all in one grid with different colors for each year but there are too many years to see the difference or if there is any trend between years.\n",
    "\n",
    "After that I created a loop to graph a grid of SDI vs GDP each point being a country and each frame in the grid being a different year. \n",
    "\n",
    "After that I saw that there were countries with \n",
    "\n",
    "I processed the data by..... [ put your text here ]\n",
    "\n",
    "# Conclusion\n",
    "I found ...."
   ]
  }
 ],
 "metadata": {
  "kernelspec": {
   "display_name": "Python 3 (ipykernel)",
   "language": "python",
   "name": "python3"
  },
  "language_info": {
   "codemirror_mode": {
    "name": "ipython",
    "version": 3
   },
   "file_extension": ".py",
   "mimetype": "text/x-python",
   "name": "python",
   "nbconvert_exporter": "python",
   "pygments_lexer": "ipython3",
   "version": "3.8.10"
  }
 },
 "nbformat": 4,
 "nbformat_minor": 5
}
